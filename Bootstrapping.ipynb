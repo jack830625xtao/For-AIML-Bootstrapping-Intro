{
 "cells": [
  {
   "cell_type": "markdown",
   "metadata": {},
   "source": [
    "# 24788 Presentation\n",
    "## Bootstrapping "
   ]
  },
  {
   "cell_type": "code",
   "execution_count": 1,
   "metadata": {},
   "outputs": [],
   "source": [
    "import pandas as pd\n",
    "import numpy as np\n",
    "import scipy as sp\n",
    "import seaborn as sns\n",
    "%matplotlib inline\n",
    "import matplotlib.pyplot as plt\n",
    "plt.style.use('ggplot')"
   ]
  },
  {
   "cell_type": "markdown",
   "metadata": {},
   "source": [
    "### Dataset used for this introduction\n",
    "\n",
    "[NBA Players Stats - 2014-2015](https://www.kaggle.com/drgilermo/nba-players-stats-20142015/data)"
   ]
  },
  {
   "cell_type": "code",
   "execution_count": 2,
   "metadata": {},
   "outputs": [],
   "source": [
    "nba = pd.read_csv(\"players_stats.csv\").dropna().reset_index(drop=True)"
   ]
  },
  {
   "cell_type": "code",
   "execution_count": 3,
   "metadata": {
    "scrolled": true
   },
   "outputs": [
    {
     "data": {
      "text/html": [
       "<div>\n",
       "<style scoped>\n",
       "    .dataframe tbody tr th:only-of-type {\n",
       "        vertical-align: middle;\n",
       "    }\n",
       "\n",
       "    .dataframe tbody tr th {\n",
       "        vertical-align: top;\n",
       "    }\n",
       "\n",
       "    .dataframe thead th {\n",
       "        text-align: right;\n",
       "    }\n",
       "</style>\n",
       "<table border=\"1\" class=\"dataframe\">\n",
       "  <thead>\n",
       "    <tr style=\"text-align: right;\">\n",
       "      <th></th>\n",
       "      <th>Name</th>\n",
       "      <th>Games Played</th>\n",
       "      <th>MIN</th>\n",
       "      <th>PTS</th>\n",
       "      <th>FGM</th>\n",
       "      <th>FGA</th>\n",
       "      <th>FG%</th>\n",
       "      <th>3PM</th>\n",
       "      <th>3PA</th>\n",
       "      <th>3P%</th>\n",
       "      <th>...</th>\n",
       "      <th>Age</th>\n",
       "      <th>Birth_Place</th>\n",
       "      <th>Birthdate</th>\n",
       "      <th>Collage</th>\n",
       "      <th>Experience</th>\n",
       "      <th>Height</th>\n",
       "      <th>Pos</th>\n",
       "      <th>Team</th>\n",
       "      <th>Weight</th>\n",
       "      <th>BMI</th>\n",
       "    </tr>\n",
       "  </thead>\n",
       "  <tbody>\n",
       "    <tr>\n",
       "      <th>0</th>\n",
       "      <td>AJ Price</td>\n",
       "      <td>26</td>\n",
       "      <td>324</td>\n",
       "      <td>133</td>\n",
       "      <td>51</td>\n",
       "      <td>137</td>\n",
       "      <td>37.2</td>\n",
       "      <td>15</td>\n",
       "      <td>57</td>\n",
       "      <td>26.3</td>\n",
       "      <td>...</td>\n",
       "      <td>29.0</td>\n",
       "      <td>us</td>\n",
       "      <td>October 7, 1986</td>\n",
       "      <td>University of Connecticut</td>\n",
       "      <td>5</td>\n",
       "      <td>185.0</td>\n",
       "      <td>PG</td>\n",
       "      <td>PHO</td>\n",
       "      <td>81.45</td>\n",
       "      <td>23.798393</td>\n",
       "    </tr>\n",
       "    <tr>\n",
       "      <th>1</th>\n",
       "      <td>Aaron Brooks</td>\n",
       "      <td>82</td>\n",
       "      <td>1885</td>\n",
       "      <td>954</td>\n",
       "      <td>344</td>\n",
       "      <td>817</td>\n",
       "      <td>42.1</td>\n",
       "      <td>121</td>\n",
       "      <td>313</td>\n",
       "      <td>38.7</td>\n",
       "      <td>...</td>\n",
       "      <td>30.0</td>\n",
       "      <td>us</td>\n",
       "      <td>January 14, 1985</td>\n",
       "      <td>University of Oregon</td>\n",
       "      <td>6</td>\n",
       "      <td>180.0</td>\n",
       "      <td>PG</td>\n",
       "      <td>CHI</td>\n",
       "      <td>72.45</td>\n",
       "      <td>22.361111</td>\n",
       "    </tr>\n",
       "    <tr>\n",
       "      <th>2</th>\n",
       "      <td>Aaron Gordon</td>\n",
       "      <td>47</td>\n",
       "      <td>797</td>\n",
       "      <td>243</td>\n",
       "      <td>93</td>\n",
       "      <td>208</td>\n",
       "      <td>44.7</td>\n",
       "      <td>13</td>\n",
       "      <td>48</td>\n",
       "      <td>27.1</td>\n",
       "      <td>...</td>\n",
       "      <td>20.0</td>\n",
       "      <td>us</td>\n",
       "      <td>September 16, 1995</td>\n",
       "      <td>University of Arizona</td>\n",
       "      <td>R</td>\n",
       "      <td>202.5</td>\n",
       "      <td>PF</td>\n",
       "      <td>ORL</td>\n",
       "      <td>99.00</td>\n",
       "      <td>24.142661</td>\n",
       "    </tr>\n",
       "    <tr>\n",
       "      <th>3</th>\n",
       "      <td>Adreian Payne</td>\n",
       "      <td>32</td>\n",
       "      <td>740</td>\n",
       "      <td>213</td>\n",
       "      <td>91</td>\n",
       "      <td>220</td>\n",
       "      <td>41.4</td>\n",
       "      <td>1</td>\n",
       "      <td>9</td>\n",
       "      <td>11.1</td>\n",
       "      <td>...</td>\n",
       "      <td>24.0</td>\n",
       "      <td>us</td>\n",
       "      <td>February 19, 1991</td>\n",
       "      <td>Michigan State University</td>\n",
       "      <td>R</td>\n",
       "      <td>205.0</td>\n",
       "      <td>PF</td>\n",
       "      <td>ATL</td>\n",
       "      <td>106.65</td>\n",
       "      <td>25.377751</td>\n",
       "    </tr>\n",
       "    <tr>\n",
       "      <th>4</th>\n",
       "      <td>Al Horford</td>\n",
       "      <td>76</td>\n",
       "      <td>2318</td>\n",
       "      <td>1156</td>\n",
       "      <td>519</td>\n",
       "      <td>965</td>\n",
       "      <td>53.8</td>\n",
       "      <td>11</td>\n",
       "      <td>36</td>\n",
       "      <td>30.6</td>\n",
       "      <td>...</td>\n",
       "      <td>29.0</td>\n",
       "      <td>do</td>\n",
       "      <td>June 3, 1986</td>\n",
       "      <td>University of Florida</td>\n",
       "      <td>7</td>\n",
       "      <td>205.0</td>\n",
       "      <td>C</td>\n",
       "      <td>ATL</td>\n",
       "      <td>110.25</td>\n",
       "      <td>26.234384</td>\n",
       "    </tr>\n",
       "  </tbody>\n",
       "</table>\n",
       "<p>5 rows × 34 columns</p>\n",
       "</div>"
      ],
      "text/plain": [
       "            Name  Games Played   MIN   PTS  FGM  FGA   FG%  3PM  3PA   3P%  \\\n",
       "0       AJ Price            26   324   133   51  137  37.2   15   57  26.3   \n",
       "1   Aaron Brooks            82  1885   954  344  817  42.1  121  313  38.7   \n",
       "2   Aaron Gordon            47   797   243   93  208  44.7   13   48  27.1   \n",
       "3  Adreian Payne            32   740   213   91  220  41.4    1    9  11.1   \n",
       "4     Al Horford            76  2318  1156  519  965  53.8   11   36  30.6   \n",
       "\n",
       "     ...       Age  Birth_Place           Birthdate  \\\n",
       "0    ...      29.0           us     October 7, 1986   \n",
       "1    ...      30.0           us    January 14, 1985   \n",
       "2    ...      20.0           us  September 16, 1995   \n",
       "3    ...      24.0           us   February 19, 1991   \n",
       "4    ...      29.0           do        June 3, 1986   \n",
       "\n",
       "                     Collage  Experience  Height  Pos  Team  Weight        BMI  \n",
       "0  University of Connecticut           5   185.0   PG   PHO   81.45  23.798393  \n",
       "1       University of Oregon           6   180.0   PG   CHI   72.45  22.361111  \n",
       "2      University of Arizona           R   202.5   PF   ORL   99.00  24.142661  \n",
       "3  Michigan State University           R   205.0   PF   ATL  106.65  25.377751  \n",
       "4      University of Florida           7   205.0    C   ATL  110.25  26.234384  \n",
       "\n",
       "[5 rows x 34 columns]"
      ]
     },
     "execution_count": 3,
     "metadata": {},
     "output_type": "execute_result"
    }
   ],
   "source": [
    "nba.head()"
   ]
  },
  {
   "cell_type": "code",
   "execution_count": 4,
   "metadata": {},
   "outputs": [],
   "source": [
    "nba_height = nba.Height"
   ]
  },
  {
   "cell_type": "markdown",
   "metadata": {},
   "source": [
    "### Randomly select 40 data points to be our original sample"
   ]
  },
  {
   "cell_type": "code",
   "execution_count": 5,
   "metadata": {},
   "outputs": [],
   "source": [
    "original = nba_height[np.random.randint(0,len(nba_height),40)].reset_index(drop=True)"
   ]
  },
  {
   "cell_type": "code",
   "execution_count": 6,
   "metadata": {
    "scrolled": false
   },
   "outputs": [
    {
     "data": {
      "text/plain": [
       "0    202.5\n",
       "1    202.5\n",
       "2    202.5\n",
       "3    202.5\n",
       "4    202.5\n",
       "5    210.0\n",
       "6    185.0\n",
       "7    192.5\n",
       "8    192.5\n",
       "9    202.5\n",
       "Name: Height, dtype: float64"
      ]
     },
     "execution_count": 6,
     "metadata": {},
     "output_type": "execute_result"
    }
   ],
   "source": [
    "original.head(10)"
   ]
  },
  {
   "cell_type": "code",
   "execution_count": 7,
   "metadata": {},
   "outputs": [],
   "source": [
    "means = []\n",
    "means.append(original.mean())"
   ]
  },
  {
   "cell_type": "markdown",
   "metadata": {},
   "source": [
    "### Iterate for 1000 times"
   ]
  },
  {
   "cell_type": "code",
   "execution_count": 8,
   "metadata": {
    "scrolled": true
   },
   "outputs": [],
   "source": [
    "while len(means)<1000:\n",
    "    sample = original[np.random.randint(0,len(original),40)]\n",
    "    means.append(sample.mean())"
   ]
  },
  {
   "cell_type": "markdown",
   "metadata": {},
   "source": [
    "### Plot Bootstrap Distribution"
   ]
  },
  {
   "cell_type": "code",
   "execution_count": 9,
   "metadata": {
    "scrolled": true
   },
   "outputs": [
    {
     "data": {
      "image/png": "[encoded data removed]",
      "text/plain": [
       "<matplotlib.figure.Figure at 0x23f1829bbe0>"
      ]
     },
     "metadata": {},
     "output_type": "display_data"
    }
   ],
   "source": [
    "plt.figure(figsize=(10,5))\n",
    "values,bins,p = plt.hist(means,bins=sorted(set(means)))\n",
    "s = 0\n",
    "pre = []\n",
    "post = []\n",
    "out = []\n",
    "for i,n in enumerate(values):\n",
    "    s+=n\n",
    "    if s<0.025*sum(values) or s>0.975*sum(values):\n",
    "        out.append(i)\n",
    "        p[i].set_color('purple')\n",
    "\n",
    "for i in range(len(out)):\n",
    "    if i > 0:\n",
    "        if out[i]-out[i-1]!=1:\n",
    "            plt.axvline(bins[i], color=\"k\", linestyle=\"--\")\n",
    "            plt.text(bins[i]+0.1,20,'Height='+str(bins[i]))\n",
    "            plt.axvline(bins[out[i]], color=\"k\", linestyle=\"--\")\n",
    "            plt.text(bins[out[i]]+0.1,20,'Height='+str(bins[out[i]]))\n",
    "plt.show()"
   ]
  },
  {
   "cell_type": "code",
   "execution_count": 10,
   "metadata": {
    "scrolled": false
   },
   "outputs": [
    {
     "name": "stdout",
     "output_type": "stream",
     "text": [
      "196.5857142857143\n",
      "196.868875\n"
     ]
    }
   ],
   "source": [
    "print(nba_height.mean())\n",
    "print(np.mean(means))"
   ]
  }
 ],
 "metadata": {
  "kernelspec": {
   "display_name": "Python 3",
   "language": "python",
   "name": "python3"
  },
  "language_info": {
   "codemirror_mode": {
    "name": "ipython",
    "version": 3
   },
   "file_extension": ".py",
   "mimetype": "text/x-python",
   "name": "python",
   "nbconvert_exporter": "python",
   "pygments_lexer": "ipython3",
   "version": "3.6.0"
  }
 },
 "nbformat": 4,
 "nbformat_minor": 2
}
